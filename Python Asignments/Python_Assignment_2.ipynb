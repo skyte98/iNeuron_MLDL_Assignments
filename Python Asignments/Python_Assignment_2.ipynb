{
  "nbformat": 4,
  "nbformat_minor": 0,
  "metadata": {
    "colab": {
      "name": "Assignment 2- Python Assignment 2.ipynb",
      "provenance": [],
      "collapsed_sections": []
    },
    "kernelspec": {
      "name": "python3",
      "display_name": "Python 3"
    },
    "language_info": {
      "name": "python"
    }
  },
  "cells": [
    {
      "cell_type": "markdown",
      "metadata": {
        "id": "poDIXkLrYmPH"
      },
      "source": [
        "#Assignment 2- Python Assignment 2"
      ]
    },
    {
      "cell_type": "markdown",
      "metadata": {
        "id": "TW2Ub7MQYpJ1"
      },
      "source": [
        "##1."
      ]
    },
    {
      "cell_type": "code",
      "metadata": {
        "colab": {
          "base_uri": "https://localhost:8080/"
        },
        "id": "dK3QrQ0YYiKI",
        "outputId": "88d70e2a-a233-485a-f073-c95e9326006d"
      },
      "source": [
        "for i in range(0,5):\n",
        "  for j in range(0,i+1):\n",
        "    print(\"*\", end=\"\")\n",
        "  print()\n",
        "\n",
        "for i in range(5,0,-1):\n",
        "  for j in range(i-1, 0,-1):\n",
        "    print(\"*\",end=\"\")\n",
        "  print()   \n",
        "    "
      ],
      "execution_count": 17,
      "outputs": [
        {
          "output_type": "stream",
          "text": [
            "*\n",
            "**\n",
            "***\n",
            "****\n",
            "*****\n",
            "****\n",
            "***\n",
            "**\n",
            "*\n",
            "\n"
          ],
          "name": "stdout"
        }
      ]
    },
    {
      "cell_type": "markdown",
      "metadata": {
        "id": "iOx37vYLbFRF"
      },
      "source": [
        "##2."
      ]
    },
    {
      "cell_type": "code",
      "metadata": {
        "colab": {
          "base_uri": "https://localhost:8080/"
        },
        "id": "OLdofl0QbGbV",
        "outputId": "cc44f0b0-b223-4818-a475-0fd97ec6ccae"
      },
      "source": [
        "val = input(\"Enter text\")\n",
        "print(val[::-1])"
      ],
      "execution_count": 18,
      "outputs": [
        {
          "output_type": "stream",
          "text": [
            "Enter textabcd\n",
            "dcba\n"
          ],
          "name": "stdout"
        }
      ]
    }
  ]
}