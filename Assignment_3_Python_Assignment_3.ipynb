{
  "nbformat": 4,
  "nbformat_minor": 0,
  "metadata": {
    "colab": {
      "name": "Assignment 3- Python Assignment 3.ipynb",
      "provenance": [],
      "collapsed_sections": []
    },
    "kernelspec": {
      "name": "python3",
      "display_name": "Python 3"
    },
    "language_info": {
      "name": "python"
    }
  },
  "cells": [
    {
      "cell_type": "markdown",
      "metadata": {
        "id": "VNutwByWb36v"
      },
      "source": [
        "#Assignment 3 - Python Assignment 3"
      ]
    },
    {
      "cell_type": "markdown",
      "metadata": {
        "id": "aZH1mLiEdET9"
      },
      "source": [
        "##1.1"
      ]
    },
    {
      "cell_type": "code",
      "metadata": {
        "colab": {
          "base_uri": "https://localhost:8080/"
        },
        "id": "O6RmjSa2bnUH",
        "outputId": "fe792c4e-75b8-4507-d439-0c9e73146b42"
      },
      "source": [
        "def myreduce(fun,iterable):\n",
        "  fun(iterable)\n",
        "\n",
        "#I have assumed that myfunction will do sum of elements in the iterable \n",
        "def myfunction(iterable):\n",
        "  print(sum(iterable))\n",
        "\n",
        "l=[1,2,3]\n",
        "myreduce(myfunction,l)"
      ],
      "execution_count": null,
      "outputs": [
        {
          "output_type": "stream",
          "text": [
            "6\n"
          ],
          "name": "stdout"
        }
      ]
    },
    {
      "cell_type": "markdown",
      "metadata": {
        "id": "1hjk1rYXhx78"
      },
      "source": [
        "##1.2"
      ]
    },
    {
      "cell_type": "code",
      "metadata": {
        "colab": {
          "base_uri": "https://localhost:8080/"
        },
        "id": "DONqZh8whzcr",
        "outputId": "a53b62c8-7778-4bf5-e945-d30cd215424f"
      },
      "source": [
        "# I have assumed that fun(var) will return true for values that are above 18\n",
        "def fun(var):\n",
        "  if(var>18):\n",
        "    return True\n",
        "  else:\n",
        "    return False\n",
        "\n",
        "def myfilter(fun,iterable):\n",
        "  l = []\n",
        "  for i in iterable:\n",
        "    if(fun(i)):\n",
        "      l.append(i)\n",
        "  return l\n",
        "\n",
        "iterable = [10,11,19,20,31,5,6,7]\n",
        "print(myfilter(fun,iterable))"
      ],
      "execution_count": null,
      "outputs": [
        {
          "output_type": "stream",
          "text": [
            "[19, 20, 31]\n"
          ],
          "name": "stdout"
        }
      ]
    },
    {
      "cell_type": "markdown",
      "metadata": {
        "id": "U7QOrsI-lgU8"
      },
      "source": [
        "##2."
      ]
    },
    {
      "cell_type": "code",
      "metadata": {
        "id": "Ja0Lh5u-lh38",
        "colab": {
          "base_uri": "https://localhost:8080/"
        },
        "outputId": "8b2cbe81-829a-4d62-dce4-94ac8dcad88a"
      },
      "source": [
        "\n",
        "p = []\n",
        "for i in range(1,5):\n",
        "    p = p+[x*i for x in ['x','y','z'] ]\n",
        "\n",
        "p.sort()\n",
        "print(p)"
      ],
      "execution_count": null,
      "outputs": [
        {
          "output_type": "stream",
          "text": [
            "['x', 'xx', 'xxx', 'xxxx', 'y', 'yy', 'yyy', 'yyyy', 'z', 'zz', 'zzz', 'zzzz']\n"
          ],
          "name": "stdout"
        }
      ]
    },
    {
      "cell_type": "code",
      "metadata": {
        "colab": {
          "base_uri": "https://localhost:8080/"
        },
        "id": "-cSo_vZFQw7B",
        "outputId": "89ab0542-59f8-4b24-bcde-d167463e9a87"
      },
      "source": [
        "p = []\n",
        "for i in range(1,5):\n",
        "    p = p+ [x*i for x in ['x','y','z']]\n",
        "  \n",
        "print(p)"
      ],
      "execution_count": null,
      "outputs": [
        {
          "output_type": "stream",
          "text": [
            "['x', 'y', 'z', 'xx', 'yy', 'zz', 'xxx', 'yyy', 'zzz', 'xxxx', 'yyyy', 'zzzz']\n"
          ],
          "name": "stdout"
        }
      ]
    },
    {
      "cell_type": "code",
      "metadata": {
        "id": "1c3575kmRsUB",
        "colab": {
          "base_uri": "https://localhost:8080/"
        },
        "outputId": "987f4aa5-9fb8-4013-eeee-a3623598ce79"
      },
      "source": [
        "import numpy as np\n",
        "\n",
        "x = [x for x in range(2, 7)]\n",
        "x = np.array(x).reshape(5, 1)\n",
        "\n",
        "v = []\n",
        "for c in range(len(x) - 2):\n",
        "    v.append(list(x[c:c + 3]))\n",
        "\n",
        "l = []\n",
        "for i in v:\n",
        "    for j in i:\n",
        "        l.append(list(j))\n",
        "\n",
        "print(l)\n"
      ],
      "execution_count": 2,
      "outputs": [
        {
          "output_type": "stream",
          "text": [
            "[[2], [3], [4], [3], [4], [5], [4], [5], [6]]\n"
          ],
          "name": "stdout"
        }
      ]
    },
    {
      "cell_type": "code",
      "metadata": {
        "colab": {
          "base_uri": "https://localhost:8080/"
        },
        "id": "rI3Ns6_L1a-B",
        "outputId": "48637e2c-2eef-46fe-970c-7e8e6cb4d62b"
      },
      "source": [
        "x = [y for y in range(2, 6)]\n",
        "\n",
        "l = []\n",
        "for i in range(4):\n",
        "    l.append([y + i for y in x])\n",
        "\n",
        "print(l)\n"
      ],
      "execution_count": 3,
      "outputs": [
        {
          "output_type": "stream",
          "text": [
            "[[2, 3, 4, 5], [3, 4, 5, 6], [4, 5, 6, 7], [5, 6, 7, 8]]\n"
          ],
          "name": "stdout"
        }
      ]
    },
    {
      "cell_type": "code",
      "metadata": {
        "colab": {
          "base_uri": "https://localhost:8080/"
        },
        "id": "13L79p3M66hi",
        "outputId": "601bed88-358f-407e-fb2b-cf9d809d4b21"
      },
      "source": [
        "x = [(i, j) for i in [1, 2, 3] for j in [1, 2, 3]]\n",
        "print(x)"
      ],
      "execution_count": 5,
      "outputs": [
        {
          "output_type": "stream",
          "text": [
            "[(1, 1), (1, 2), (1, 3), (2, 1), (2, 2), (2, 3), (3, 1), (3, 2), (3, 3)]\n"
          ],
          "name": "stdout"
        }
      ]
    }
  ]
}